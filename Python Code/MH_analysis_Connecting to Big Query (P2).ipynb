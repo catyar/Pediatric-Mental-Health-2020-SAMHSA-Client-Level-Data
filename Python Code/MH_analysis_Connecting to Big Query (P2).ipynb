{
 "cells": [
  {
   "cell_type": "code",
   "execution_count": null,
   "id": "bd74873f",
   "metadata": {},
   "outputs": [],
   "source": [
    "#Connecitng to Biq Query after edits made in Big Query to perform data checks and export dataset "
   ]
  },
  {
   "cell_type": "code",
   "execution_count": 3,
   "id": "82aa072e",
   "metadata": {},
   "outputs": [],
   "source": [
    "import pandas as pd\n",
    "import numpy as np\n",
    "import sqlite3\n",
    "from pandasql import sqldf\n",
    "import matplotlib.pyplot as plt\n",
    "import statistics \n",
    "from scipy import stats"
   ]
  },
  {
   "cell_type": "code",
   "execution_count": 4,
   "id": "cd4713a2",
   "metadata": {},
   "outputs": [
    {
     "name": "stdout",
     "output_type": "stream",
     "text": [
      "Requirement already satisfied: google-cloud in c:\\users\\12155\\anaconda\\lib\\site-packages (0.34.0)\n",
      "Note: you may need to restart the kernel to use updated packages.\n"
     ]
    }
   ],
   "source": [
    "pip install google-cloud\n"
   ]
  },
  {
   "cell_type": "code",
   "execution_count": 5,
   "id": "47ce79c3",
   "metadata": {},
   "outputs": [
    {
     "name": "stdout",
     "output_type": "stream",
     "text": [
      "Requirement already satisfied: google-cloud-bigquery[pandas] in c:\\users\\12155\\anaconda\\lib\\site-packages (3.9.0)\n",
      "Requirement already satisfied: requests<3.0.0dev,>=2.21.0 in c:\\users\\12155\\anaconda\\lib\\site-packages (from google-cloud-bigquery[pandas]) (2.28.1)\n",
      "Requirement already satisfied: grpcio<2.0dev,>=1.47.0 in c:\\users\\12155\\anaconda\\lib\\site-packages (from google-cloud-bigquery[pandas]) (1.53.0)\n",
      "Requirement already satisfied: packaging>=20.0.0 in c:\\users\\12155\\anaconda\\lib\\site-packages (from google-cloud-bigquery[pandas]) (21.3)\n",
      "Requirement already satisfied: google-cloud-core<3.0.0dev,>=1.6.0 in c:\\users\\12155\\anaconda\\lib\\site-packages (from google-cloud-bigquery[pandas]) (2.3.2)\n",
      "Requirement already satisfied: google-api-core[grpc]!=2.0.*,!=2.1.*,!=2.2.*,!=2.3.0,<3.0.0dev,>=1.31.5 in c:\\users\\12155\\anaconda\\lib\\site-packages (from google-cloud-bigquery[pandas]) (2.11.0)\n",
      "Requirement already satisfied: proto-plus<2.0.0dev,>=1.15.0 in c:\\users\\12155\\anaconda\\lib\\site-packages (from google-cloud-bigquery[pandas]) (1.22.2)\n",
      "Requirement already satisfied: google-resumable-media<3.0dev,>=0.6.0 in c:\\users\\12155\\anaconda\\lib\\site-packages (from google-cloud-bigquery[pandas]) (2.4.1)\n",
      "Requirement already satisfied: protobuf!=3.20.0,!=3.20.1,!=4.21.0,!=4.21.1,!=4.21.2,!=4.21.3,!=4.21.4,!=4.21.5,<5.0.0dev,>=3.19.5 in c:\\users\\12155\\anaconda\\lib\\site-packages (from google-cloud-bigquery[pandas]) (4.22.1)\n",
      "Requirement already satisfied: python-dateutil<3.0dev,>=2.7.2 in c:\\users\\12155\\anaconda\\lib\\site-packages (from google-cloud-bigquery[pandas]) (2.8.2)\n",
      "Requirement already satisfied: pandas>=1.1.0 in c:\\users\\12155\\anaconda\\lib\\site-packages (from google-cloud-bigquery[pandas]) (1.4.4)\n",
      "Requirement already satisfied: pyarrow>=3.0.0 in c:\\users\\12155\\anaconda\\lib\\site-packages (from google-cloud-bigquery[pandas]) (11.0.0)\n",
      "Requirement already satisfied: db-dtypes<2.0.0dev,>=0.3.0 in c:\\users\\12155\\anaconda\\lib\\site-packages (from google-cloud-bigquery[pandas]) (1.1.1)\n",
      "Requirement already satisfied: numpy>=1.16.6 in c:\\users\\12155\\anaconda\\lib\\site-packages (from db-dtypes<2.0.0dev,>=0.3.0->google-cloud-bigquery[pandas]) (1.21.5)\n",
      "Requirement already satisfied: google-auth<3.0dev,>=2.14.1 in c:\\users\\12155\\anaconda\\lib\\site-packages (from google-api-core[grpc]!=2.0.*,!=2.1.*,!=2.2.*,!=2.3.0,<3.0.0dev,>=1.31.5->google-cloud-bigquery[pandas]) (2.17.1)\n",
      "Requirement already satisfied: googleapis-common-protos<2.0dev,>=1.56.2 in c:\\users\\12155\\anaconda\\lib\\site-packages (from google-api-core[grpc]!=2.0.*,!=2.1.*,!=2.2.*,!=2.3.0,<3.0.0dev,>=1.31.5->google-cloud-bigquery[pandas]) (1.59.0)\n",
      "Requirement already satisfied: grpcio-status<2.0dev,>=1.33.2 in c:\\users\\12155\\anaconda\\lib\\site-packages (from google-api-core[grpc]!=2.0.*,!=2.1.*,!=2.2.*,!=2.3.0,<3.0.0dev,>=1.31.5->google-cloud-bigquery[pandas]) (1.53.0)\n",
      "Requirement already satisfied: google-crc32c<2.0dev,>=1.0 in c:\\users\\12155\\anaconda\\lib\\site-packages (from google-resumable-media<3.0dev,>=0.6.0->google-cloud-bigquery[pandas]) (1.5.0)\n",
      "Requirement already satisfied: pyparsing!=3.0.5,>=2.0.2 in c:\\users\\12155\\anaconda\\lib\\site-packages (from packaging>=20.0.0->google-cloud-bigquery[pandas]) (3.0.9)\n",
      "Requirement already satisfied: pytz>=2020.1 in c:\\users\\12155\\anaconda\\lib\\site-packages (from pandas>=1.1.0->google-cloud-bigquery[pandas]) (2022.1)\n",
      "Requirement already satisfied: six>=1.5 in c:\\users\\12155\\anaconda\\lib\\site-packages (from python-dateutil<3.0dev,>=2.7.2->google-cloud-bigquery[pandas]) (1.16.0)\n",
      "Requirement already satisfied: charset-normalizer<3,>=2 in c:\\users\\12155\\anaconda\\lib\\site-packages (from requests<3.0.0dev,>=2.21.0->google-cloud-bigquery[pandas]) (2.0.4)\n",
      "Requirement already satisfied: urllib3<1.27,>=1.21.1 in c:\\users\\12155\\anaconda\\lib\\site-packages (from requests<3.0.0dev,>=2.21.0->google-cloud-bigquery[pandas]) (1.26.11)\n",
      "Requirement already satisfied: idna<4,>=2.5 in c:\\users\\12155\\anaconda\\lib\\site-packages (from requests<3.0.0dev,>=2.21.0->google-cloud-bigquery[pandas]) (3.3)\n",
      "Requirement already satisfied: certifi>=2017.4.17 in c:\\users\\12155\\anaconda\\lib\\site-packages (from requests<3.0.0dev,>=2.21.0->google-cloud-bigquery[pandas]) (2022.9.14)\n",
      "Requirement already satisfied: pyasn1-modules>=0.2.1 in c:\\users\\12155\\anaconda\\lib\\site-packages (from google-auth<3.0dev,>=2.14.1->google-api-core[grpc]!=2.0.*,!=2.1.*,!=2.2.*,!=2.3.0,<3.0.0dev,>=1.31.5->google-cloud-bigquery[pandas]) (0.2.8)\n",
      "Requirement already satisfied: rsa<5,>=3.1.4 in c:\\users\\12155\\anaconda\\lib\\site-packages (from google-auth<3.0dev,>=2.14.1->google-api-core[grpc]!=2.0.*,!=2.1.*,!=2.2.*,!=2.3.0,<3.0.0dev,>=1.31.5->google-cloud-bigquery[pandas]) (4.9)\n",
      "Requirement already satisfied: cachetools<6.0,>=2.0.0 in c:\\users\\12155\\anaconda\\lib\\site-packages (from google-auth<3.0dev,>=2.14.1->google-api-core[grpc]!=2.0.*,!=2.1.*,!=2.2.*,!=2.3.0,<3.0.0dev,>=1.31.5->google-cloud-bigquery[pandas]) (5.3.0)\n",
      "Requirement already satisfied: pyasn1<0.5.0,>=0.4.6 in c:\\users\\12155\\anaconda\\lib\\site-packages (from pyasn1-modules>=0.2.1->google-auth<3.0dev,>=2.14.1->google-api-core[grpc]!=2.0.*,!=2.1.*,!=2.2.*,!=2.3.0,<3.0.0dev,>=1.31.5->google-cloud-bigquery[pandas]) (0.4.8)\n",
      "Note: you may need to restart the kernel to use updated packages.\n"
     ]
    }
   ],
   "source": [
    "pip install google-cloud-bigquery[pandas]\n"
   ]
  },
  {
   "cell_type": "code",
   "execution_count": 12,
   "id": "6760cd12",
   "metadata": {},
   "outputs": [
    {
     "name": "stdout",
     "output_type": "stream",
     "text": [
      "Requirement already satisfied: google-cloud-storage in c:\\users\\12155\\anaconda\\lib\\site-packages (2.8.0)\n",
      "Requirement already satisfied: google-resumable-media>=2.3.2 in c:\\users\\12155\\anaconda\\lib\\site-packages (from google-cloud-storage) (2.4.1)\n",
      "Requirement already satisfied: google-auth<3.0dev,>=1.25.0 in c:\\users\\12155\\anaconda\\lib\\site-packages (from google-cloud-storage) (2.17.1)\n",
      "Requirement already satisfied: google-cloud-core<3.0dev,>=2.3.0 in c:\\users\\12155\\anaconda\\lib\\site-packages (from google-cloud-storage) (2.3.2)\n",
      "Requirement already satisfied: google-api-core!=2.0.*,!=2.1.*,!=2.2.*,!=2.3.0,<3.0.0dev,>=1.31.5 in c:\\users\\12155\\anaconda\\lib\\site-packages (from google-cloud-storage) (2.11.0)\n",
      "Requirement already satisfied: requests<3.0.0dev,>=2.18.0 in c:\\users\\12155\\anaconda\\lib\\site-packages (from google-cloud-storage) (2.28.1)\n",
      "Requirement already satisfied: protobuf!=3.20.0,!=3.20.1,!=4.21.0,!=4.21.1,!=4.21.2,!=4.21.3,!=4.21.4,!=4.21.5,<5.0.0dev,>=3.19.5 in c:\\users\\12155\\anaconda\\lib\\site-packages (from google-api-core!=2.0.*,!=2.1.*,!=2.2.*,!=2.3.0,<3.0.0dev,>=1.31.5->google-cloud-storage) (4.22.1)\n",
      "Requirement already satisfied: googleapis-common-protos<2.0dev,>=1.56.2 in c:\\users\\12155\\anaconda\\lib\\site-packages (from google-api-core!=2.0.*,!=2.1.*,!=2.2.*,!=2.3.0,<3.0.0dev,>=1.31.5->google-cloud-storage) (1.59.0)\n",
      "Requirement already satisfied: pyasn1-modules>=0.2.1 in c:\\users\\12155\\anaconda\\lib\\site-packages (from google-auth<3.0dev,>=1.25.0->google-cloud-storage) (0.2.8)\n",
      "Requirement already satisfied: cachetools<6.0,>=2.0.0 in c:\\users\\12155\\anaconda\\lib\\site-packages (from google-auth<3.0dev,>=1.25.0->google-cloud-storage) (5.3.0)\n",
      "Requirement already satisfied: six>=1.9.0 in c:\\users\\12155\\anaconda\\lib\\site-packages (from google-auth<3.0dev,>=1.25.0->google-cloud-storage) (1.16.0)\n",
      "Requirement already satisfied: rsa<5,>=3.1.4 in c:\\users\\12155\\anaconda\\lib\\site-packages (from google-auth<3.0dev,>=1.25.0->google-cloud-storage) (4.9)\n",
      "Requirement already satisfied: google-crc32c<2.0dev,>=1.0 in c:\\users\\12155\\anaconda\\lib\\site-packages (from google-resumable-media>=2.3.2->google-cloud-storage) (1.5.0)\n",
      "Requirement already satisfied: urllib3<1.27,>=1.21.1 in c:\\users\\12155\\anaconda\\lib\\site-packages (from requests<3.0.0dev,>=2.18.0->google-cloud-storage) (1.26.11)\n",
      "Requirement already satisfied: charset-normalizer<3,>=2 in c:\\users\\12155\\anaconda\\lib\\site-packages (from requests<3.0.0dev,>=2.18.0->google-cloud-storage) (2.0.4)\n",
      "Requirement already satisfied: idna<4,>=2.5 in c:\\users\\12155\\anaconda\\lib\\site-packages (from requests<3.0.0dev,>=2.18.0->google-cloud-storage) (3.3)\n",
      "Requirement already satisfied: certifi>=2017.4.17 in c:\\users\\12155\\anaconda\\lib\\site-packages (from requests<3.0.0dev,>=2.18.0->google-cloud-storage) (2022.9.14)\n",
      "Requirement already satisfied: pyasn1<0.5.0,>=0.4.6 in c:\\users\\12155\\anaconda\\lib\\site-packages (from pyasn1-modules>=0.2.1->google-auth<3.0dev,>=1.25.0->google-cloud-storage) (0.4.8)\n",
      "Note: you may need to restart the kernel to use updated packages.\n"
     ]
    }
   ],
   "source": [
    "pip install google-cloud-storage"
   ]
  },
  {
   "cell_type": "code",
   "execution_count": 13,
   "id": "bb78fa8e",
   "metadata": {},
   "outputs": [
    {
     "ename": "SyntaxError",
     "evalue": "invalid syntax (3619998515.py, line 1)",
     "output_type": "error",
     "traceback": [
      "\u001b[1;36m  File \u001b[1;32m\"C:\\Users\\12155\\AppData\\Local\\Temp\\ipykernel_21636\\3619998515.py\"\u001b[1;36m, line \u001b[1;32m1\u001b[0m\n\u001b[1;33m    pip install --user --upgrade google-api-python-client\u001b[0m\n\u001b[1;37m        ^\u001b[0m\n\u001b[1;31mSyntaxError\u001b[0m\u001b[1;31m:\u001b[0m invalid syntax\n"
     ]
    }
   ],
   "source": [
    "pip install --user --upgrade google-api-python-client\n",
    "pip install --user pandas-gbq -U"
   ]
  },
  {
   "cell_type": "code",
   "execution_count": 14,
   "id": "1419043b",
   "metadata": {},
   "outputs": [],
   "source": [
    "%load_ext google.cloud.bigquery"
   ]
  },
  {
   "cell_type": "code",
   "execution_count": 15,
   "id": "f854c2f5",
   "metadata": {},
   "outputs": [],
   "source": [
    "import os\n",
    "os.environ[\"GCLOUD_PROJECT\"] = \"mh-analysis-382220\"\n",
    "\n",
    "#Set environment variables for your notebook\n",
    "os.environ['GOOGLE_APPLICATION_CREDENTIALS'] = (r'C:\\Users\\12155\\Downloads\\mh-analysis-382220-03d1a2050499.json')\n",
    "#Imports google cloud client library and initiates BQ service\n",
    "from google.cloud import bigquery\n",
    "bigquery_client = bigquery.Client()"
   ]
  },
  {
   "cell_type": "code",
   "execution_count": 16,
   "id": "764c606e",
   "metadata": {},
   "outputs": [
    {
     "name": "stdout",
     "output_type": "stream",
     "text": [
      "Requirement already satisfied: pandas-gbq in c:\\users\\12155\\anaconda\\lib\\site-packages (0.19.1)\n",
      "Requirement already satisfied: setuptools in c:\\users\\12155\\anaconda\\lib\\site-packages (from pandas-gbq) (63.4.1)\n",
      "Requirement already satisfied: pandas>=1.1.4 in c:\\users\\12155\\anaconda\\lib\\site-packages (from pandas-gbq) (1.4.4)\n",
      "Requirement already satisfied: db-dtypes<2.0.0,>=1.0.4 in c:\\users\\12155\\anaconda\\lib\\site-packages (from pandas-gbq) (1.1.1)\n",
      "Requirement already satisfied: pyarrow>=3.0.0 in c:\\users\\12155\\anaconda\\lib\\site-packages (from pandas-gbq) (11.0.0)\n",
      "Requirement already satisfied: numpy>=1.16.6 in c:\\users\\12155\\anaconda\\lib\\site-packages (from pandas-gbq) (1.21.5)\n",
      "Requirement already satisfied: google-cloud-bigquery-storage<3.0.0dev,>=2.16.2 in c:\\users\\12155\\anaconda\\lib\\site-packages (from pandas-gbq) (2.19.1)\n",
      "Requirement already satisfied: google-api-core<3.0.0dev,>=2.10.2 in c:\\users\\12155\\anaconda\\lib\\site-packages (from pandas-gbq) (2.11.0)\n",
      "Requirement already satisfied: pydata-google-auth>=1.5.0 in c:\\users\\12155\\anaconda\\lib\\site-packages (from pandas-gbq) (1.7.0)\n",
      "Requirement already satisfied: google-auth>=2.13.0 in c:\\users\\12155\\anaconda\\lib\\site-packages (from pandas-gbq) (2.17.1)\n",
      "Requirement already satisfied: google-cloud-bigquery!=2.4.*,<4.0.0dev,>=3.3.5 in c:\\users\\12155\\anaconda\\lib\\site-packages (from pandas-gbq) (3.9.0)\n",
      "Requirement already satisfied: google-auth-oauthlib>=0.7.0 in c:\\users\\12155\\anaconda\\lib\\site-packages (from pandas-gbq) (1.0.0)\n",
      "Requirement already satisfied: packaging>=17.0 in c:\\users\\12155\\anaconda\\lib\\site-packages (from db-dtypes<2.0.0,>=1.0.4->pandas-gbq) (21.3)\n",
      "Requirement already satisfied: googleapis-common-protos<2.0dev,>=1.56.2 in c:\\users\\12155\\anaconda\\lib\\site-packages (from google-api-core<3.0.0dev,>=2.10.2->pandas-gbq) (1.59.0)\n",
      "Requirement already satisfied: requests<3.0.0dev,>=2.18.0 in c:\\users\\12155\\anaconda\\lib\\site-packages (from google-api-core<3.0.0dev,>=2.10.2->pandas-gbq) (2.28.1)\n",
      "Requirement already satisfied: protobuf!=3.20.0,!=3.20.1,!=4.21.0,!=4.21.1,!=4.21.2,!=4.21.3,!=4.21.4,!=4.21.5,<5.0.0dev,>=3.19.5 in c:\\users\\12155\\anaconda\\lib\\site-packages (from google-api-core<3.0.0dev,>=2.10.2->pandas-gbq) (4.22.1)\n",
      "Requirement already satisfied: pyasn1-modules>=0.2.1 in c:\\users\\12155\\anaconda\\lib\\site-packages (from google-auth>=2.13.0->pandas-gbq) (0.2.8)\n",
      "Requirement already satisfied: rsa<5,>=3.1.4 in c:\\users\\12155\\anaconda\\lib\\site-packages (from google-auth>=2.13.0->pandas-gbq) (4.9)\n",
      "Requirement already satisfied: six>=1.9.0 in c:\\users\\12155\\anaconda\\lib\\site-packages (from google-auth>=2.13.0->pandas-gbq) (1.16.0)\n",
      "Requirement already satisfied: cachetools<6.0,>=2.0.0 in c:\\users\\12155\\anaconda\\lib\\site-packages (from google-auth>=2.13.0->pandas-gbq) (5.3.0)\n",
      "Requirement already satisfied: requests-oauthlib>=0.7.0 in c:\\users\\12155\\anaconda\\lib\\site-packages (from google-auth-oauthlib>=0.7.0->pandas-gbq) (1.3.1)\n",
      "Requirement already satisfied: proto-plus<2.0.0dev,>=1.15.0 in c:\\users\\12155\\anaconda\\lib\\site-packages (from google-cloud-bigquery!=2.4.*,<4.0.0dev,>=3.3.5->pandas-gbq) (1.22.2)\n",
      "Requirement already satisfied: grpcio<2.0dev,>=1.47.0 in c:\\users\\12155\\anaconda\\lib\\site-packages (from google-cloud-bigquery!=2.4.*,<4.0.0dev,>=3.3.5->pandas-gbq) (1.53.0)\n",
      "Requirement already satisfied: google-cloud-core<3.0.0dev,>=1.6.0 in c:\\users\\12155\\anaconda\\lib\\site-packages (from google-cloud-bigquery!=2.4.*,<4.0.0dev,>=3.3.5->pandas-gbq) (2.3.2)\n",
      "Requirement already satisfied: python-dateutil<3.0dev,>=2.7.2 in c:\\users\\12155\\anaconda\\lib\\site-packages (from google-cloud-bigquery!=2.4.*,<4.0.0dev,>=3.3.5->pandas-gbq) (2.8.2)\n",
      "Requirement already satisfied: google-resumable-media<3.0dev,>=0.6.0 in c:\\users\\12155\\anaconda\\lib\\site-packages (from google-cloud-bigquery!=2.4.*,<4.0.0dev,>=3.3.5->pandas-gbq) (2.4.1)\n",
      "Requirement already satisfied: pytz>=2020.1 in c:\\users\\12155\\anaconda\\lib\\site-packages (from pandas>=1.1.4->pandas-gbq) (2022.1)\n",
      "Requirement already satisfied: grpcio-status<2.0dev,>=1.33.2 in c:\\users\\12155\\anaconda\\lib\\site-packages (from google-api-core<3.0.0dev,>=2.10.2->pandas-gbq) (1.53.0)\n",
      "Requirement already satisfied: google-crc32c<2.0dev,>=1.0 in c:\\users\\12155\\anaconda\\lib\\site-packages (from google-resumable-media<3.0dev,>=0.6.0->google-cloud-bigquery!=2.4.*,<4.0.0dev,>=3.3.5->pandas-gbq) (1.5.0)\n",
      "Requirement already satisfied: pyparsing!=3.0.5,>=2.0.2 in c:\\users\\12155\\anaconda\\lib\\site-packages (from packaging>=17.0->db-dtypes<2.0.0,>=1.0.4->pandas-gbq) (3.0.9)\n",
      "Requirement already satisfied: pyasn1<0.5.0,>=0.4.6 in c:\\users\\12155\\anaconda\\lib\\site-packages (from pyasn1-modules>=0.2.1->google-auth>=2.13.0->pandas-gbq) (0.4.8)\n",
      "Requirement already satisfied: charset-normalizer<3,>=2 in c:\\users\\12155\\anaconda\\lib\\site-packages (from requests<3.0.0dev,>=2.18.0->google-api-core<3.0.0dev,>=2.10.2->pandas-gbq) (2.0.4)\n",
      "Requirement already satisfied: certifi>=2017.4.17 in c:\\users\\12155\\anaconda\\lib\\site-packages (from requests<3.0.0dev,>=2.18.0->google-api-core<3.0.0dev,>=2.10.2->pandas-gbq) (2022.9.14)\n",
      "Requirement already satisfied: idna<4,>=2.5 in c:\\users\\12155\\anaconda\\lib\\site-packages (from requests<3.0.0dev,>=2.18.0->google-api-core<3.0.0dev,>=2.10.2->pandas-gbq) (3.3)\n",
      "Requirement already satisfied: urllib3<1.27,>=1.21.1 in c:\\users\\12155\\anaconda\\lib\\site-packages (from requests<3.0.0dev,>=2.18.0->google-api-core<3.0.0dev,>=2.10.2->pandas-gbq) (1.26.11)\n",
      "Requirement already satisfied: oauthlib>=3.0.0 in c:\\users\\12155\\anaconda\\lib\\site-packages (from requests-oauthlib>=0.7.0->google-auth-oauthlib>=0.7.0->pandas-gbq) (3.2.2)\n",
      "Note: you may need to restart the kernel to use updated packages.\n"
     ]
    }
   ],
   "source": [
    "pip install pandas-gbq"
   ]
  },
  {
   "cell_type": "code",
   "execution_count": 17,
   "id": "add037a4",
   "metadata": {},
   "outputs": [
    {
     "name": "stdout",
     "output_type": "stream",
     "text": [
      "The google.cloud.bigquery extension is already loaded. To reload it, use:\n",
      "  %reload_ext google.cloud.bigquery\n"
     ]
    }
   ],
   "source": [
    "import pandas_gbq\n",
    "from google.cloud import bigquery\n",
    "%load_ext google.cloud.bigquery\n",
    "# Set your default project here\n",
    "pandas_gbq.context.project = \"mh-analysis-382220\"\n",
    "pandas_gbq.context.dialect = 'standard'"
   ]
  },
  {
   "cell_type": "code",
   "execution_count": 18,
   "id": "f5fbf80f",
   "metadata": {},
   "outputs": [
    {
     "name": "stderr",
     "output_type": "stream",
     "text": [
      "\n",
      "ERROR:\n",
      " 403 POST https://bigquery.googleapis.com/bigquery/v2/projects/mh-analysis-382220/jobs?prettyPrint=false: Access Denied: Project mh-analysis-382220: User does not have bigquery.jobs.create permission in project mh-analysis-382220.\n",
      "\n",
      "Location: None\n",
      "Job ID: 06e9da4a-e397-457e-821e-4ab4473246b8\n",
      "\n"
     ]
    }
   ],
   "source": [
    "%%bigquery mh_final\n",
    "SELECT * FROM `mh-analysis-382220.mh_analysis_updated.mh_under18_labeled_fulldata`"
   ]
  },
  {
   "cell_type": "code",
   "execution_count": null,
   "id": "31bfbc44",
   "metadata": {},
   "outputs": [],
   "source": [
    "mh_copy = mh_final #make a copy"
   ]
  },
  {
   "cell_type": "code",
   "execution_count": null,
   "id": "4c1dd163",
   "metadata": {},
   "outputs": [],
   "source": [
    "mh_final.head()"
   ]
  },
  {
   "cell_type": "code",
   "execution_count": null,
   "id": "11a8b126",
   "metadata": {},
   "outputs": [],
   "source": [
    "mh_final.tail()"
   ]
  },
  {
   "cell_type": "code",
   "execution_count": null,
   "id": "7e422d38",
   "metadata": {},
   "outputs": [],
   "source": [
    "mh_final.shape"
   ]
  },
  {
   "cell_type": "code",
   "execution_count": 10,
   "id": "f53591b0",
   "metadata": {},
   "outputs": [
    {
     "ename": "NameError",
     "evalue": "name 'mh_final' is not defined",
     "output_type": "error",
     "traceback": [
      "\u001b[1;31m---------------------------------------------------------------------------\u001b[0m",
      "\u001b[1;31mNameError\u001b[0m                                 Traceback (most recent call last)",
      "\u001b[1;32m~\\AppData\\Local\\Temp\\ipykernel_21636\\3953349366.py\u001b[0m in \u001b[0;36m<module>\u001b[1;34m\u001b[0m\n\u001b[1;32m----> 1\u001b[1;33m \u001b[0mmh_final\u001b[0m\u001b[1;33m.\u001b[0m\u001b[0mdtypes\u001b[0m\u001b[1;33m\u001b[0m\u001b[1;33m\u001b[0m\u001b[0m\n\u001b[0m\u001b[0;32m      2\u001b[0m \u001b[1;31m#some of these are booleans - yes/no\u001b[0m\u001b[1;33m\u001b[0m\u001b[1;33m\u001b[0m\u001b[0m\n",
      "\u001b[1;31mNameError\u001b[0m: name 'mh_final' is not defined"
     ]
    }
   ],
   "source": [
    "mh_final.dtypes\n",
    "#some of these are booleans - yes/no "
   ]
  },
  {
   "cell_type": "code",
   "execution_count": null,
   "id": "ad855ec4",
   "metadata": {},
   "outputs": [],
   "source": [
    "mh_final.TRAUMA_STRESS_DISORDER= mh_final.TRAUMA_STRESS_DISORDER.astype('bool')\n",
    "mh_final.ANXIETY_DIS  = mh_final.ANXIETY_DIS.astype('bool')\n",
    "mh_final.ADHD_DIS  = mh_final.ADHD_DIS.astype('bool')\n",
    "mh_final.CONDUCT_DIS  = mh_final.CONDUCT_DIS.astype('bool')\n",
    "mh_final.DIMENTIA_DIL_DIS  = mh_final.DIMENTIA_DIL_DIS.astype('bool')\n",
    "mh_final.BIPOLAR_DIS  = mh_final.BIPOLAR_DIS.astype('bool')\n",
    "mh_final.DEPRESSIVE_DIS  = mh_final.DEPRESSIVE_DIS.astype('bool')\n",
    "mh_final.OPPOSITIONAL_DEFIANT_DIS  = mh_final.OPPOSITIONAL_DEFIANT_DIS.astype('bool')\n",
    "mh_final.PDEVELOPMENTAL_DIS  = mh_final.PDEVELOPMENTAL_DIS.astype('bool')\n",
    "mh_final.PERSONALITY_DIS  = mh_final.PERSONALITY_DIS.astype('bool')\n",
    "mh_final.SCHIZOPHRENIA_or_PSYCHOTIC_DIS  = mh_final.SCHIZOPHRENIA_or_PSYCHOTIC_DIS.astype('bool')\n",
    "mh_final.ALC_SUB_DIS  = mh_final.ALC_SUB_DIS.astype('bool')\n",
    "mh_final.OTHER_DIS  = mh_final.OTHER_DIS.astype('bool')\n",
    "\n",
    "#converts integer to boolean dtypes"
   ]
  },
  {
   "cell_type": "code",
   "execution_count": null,
   "id": "f115cded",
   "metadata": {},
   "outputs": [],
   "source": [
    "mh_final.dtypes"
   ]
  },
  {
   "cell_type": "code",
   "execution_count": null,
   "id": "b4433f64",
   "metadata": {},
   "outputs": [],
   "source": [
    "mh_final.info()"
   ]
  },
  {
   "cell_type": "code",
   "execution_count": null,
   "id": "b7dfacc2",
   "metadata": {
    "scrolled": true
   },
   "outputs": [],
   "source": [
    "pd.DataFrame(mh_final.isnull().sum(),columns = ['Missing_Values'])"
   ]
  },
  {
   "cell_type": "code",
   "execution_count": null,
   "id": "63e81d63",
   "metadata": {},
   "outputs": [],
   "source": [
    "#no missing values but a lot of data as undefined/never input and marked as such in the dataset\n",
    "mh_final['marital_status'].value_counts()['Undefined']\n"
   ]
  },
  {
   "cell_type": "code",
   "execution_count": null,
   "id": "6470a5e1",
   "metadata": {},
   "outputs": [],
   "source": [
    "und = mh_final.apply(pd.value_counts)"
   ]
  },
  {
   "cell_type": "code",
   "execution_count": null,
   "id": "cca49b4d",
   "metadata": {},
   "outputs": [],
   "source": [
    "result = und.loc['Undefined']\n",
    "result\n",
    "#Looking at how many \"Undefined\" fields, equivalent to Missing/unknown/not collected/invalid input, there are in the dataset"
   ]
  },
  {
   "cell_type": "code",
   "execution_count": 9,
   "id": "efc2680f",
   "metadata": {},
   "outputs": [
    {
     "ename": "NameError",
     "evalue": "name 'mh_final' is not defined",
     "output_type": "error",
     "traceback": [
      "\u001b[1;31m---------------------------------------------------------------------------\u001b[0m",
      "\u001b[1;31mNameError\u001b[0m                                 Traceback (most recent call last)",
      "\u001b[1;32m~\\AppData\\Local\\Temp\\ipykernel_21636\\985530007.py\u001b[0m in \u001b[0;36m<module>\u001b[1;34m\u001b[0m\n\u001b[1;32m----> 1\u001b[1;33m \u001b[0mmh_final\u001b[0m\u001b[1;33m.\u001b[0m\u001b[0mnunique\u001b[0m\u001b[1;33m(\u001b[0m\u001b[1;33m)\u001b[0m\u001b[1;33m\u001b[0m\u001b[1;33m\u001b[0m\u001b[0m\n\u001b[0m",
      "\u001b[1;31mNameError\u001b[0m: name 'mh_final' is not defined"
     ]
    }
   ],
   "source": [
    "mh_final.nunique()"
   ]
  },
  {
   "cell_type": "code",
   "execution_count": 70,
   "id": "4b617a0a",
   "metadata": {},
   "outputs": [
    {
     "name": "stdout",
     "output_type": "stream",
     "text": [
      "Duplicate Rows :\n"
     ]
    },
    {
     "data": {
      "text/plain": [
       "0"
      ]
     },
     "execution_count": 70,
     "metadata": {},
     "output_type": "execute_result"
    }
   ],
   "source": [
    "duplicate = [mh_final.duplicated()]\n",
    "print('Duplicate Rows :')\n",
    "duplicate\n",
    "mh_final.duplicated().sum()"
   ]
  },
  {
   "cell_type": "code",
   "execution_count": 85,
   "id": "cce1f1fe",
   "metadata": {},
   "outputs": [],
   "source": [
    "mh_final.to_csv(r\"C:\\Users\\12155\\Documents\\Python\\Capstone\\mh_final_export.csv\", index=False)"
   ]
  }
 ],
 "metadata": {
  "kernelspec": {
   "display_name": "Python 3 (ipykernel)",
   "language": "python",
   "name": "python3"
  },
  "language_info": {
   "codemirror_mode": {
    "name": "ipython",
    "version": 3
   },
   "file_extension": ".py",
   "mimetype": "text/x-python",
   "name": "python",
   "nbconvert_exporter": "python",
   "pygments_lexer": "ipython3",
   "version": "3.9.13"
  }
 },
 "nbformat": 4,
 "nbformat_minor": 5
}
